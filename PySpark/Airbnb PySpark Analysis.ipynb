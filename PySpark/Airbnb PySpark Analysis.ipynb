{
 "cells": [
  {
   "cell_type": "code",
   "execution_count": 43,
   "id": "39944075-c402-441b-bc2f-4a15f8060683",
   "metadata": {},
   "outputs": [
    {
     "name": "stdout",
     "output_type": "stream",
     "text": [
      "Requirement already satisfied: pyspark in /home/exouser/anaconda3/lib/python3.11/site-packages (3.5.1)\n",
      "Requirement already satisfied: py4j==0.10.9.7 in /home/exouser/anaconda3/lib/python3.11/site-packages (from pyspark) (0.10.9.7)\n"
     ]
    }
   ],
   "source": [
    "!pip install pyspark"
   ]
  },
  {
   "cell_type": "code",
   "execution_count": 44,
   "id": "e7f31549-37e1-40d1-a29f-e46d1ae0feeb",
   "metadata": {},
   "outputs": [
    {
     "name": "stdout",
     "output_type": "stream",
     "text": [
      "Requirement already satisfied: google-cloud-storage in /home/exouser/anaconda3/lib/python3.11/site-packages (2.16.0)\n",
      "Requirement already satisfied: google-auth<3.0dev,>=2.26.1 in /home/exouser/anaconda3/lib/python3.11/site-packages (from google-cloud-storage) (2.29.0)\n",
      "Requirement already satisfied: google-api-core<3.0.0dev,>=2.15.0 in /home/exouser/anaconda3/lib/python3.11/site-packages (from google-cloud-storage) (2.18.0)\n",
      "Requirement already satisfied: google-cloud-core<3.0dev,>=2.3.0 in /home/exouser/anaconda3/lib/python3.11/site-packages (from google-cloud-storage) (2.4.1)\n",
      "Requirement already satisfied: google-resumable-media>=2.6.0 in /home/exouser/anaconda3/lib/python3.11/site-packages (from google-cloud-storage) (2.7.0)\n",
      "Requirement already satisfied: requests<3.0.0dev,>=2.18.0 in /home/exouser/anaconda3/lib/python3.11/site-packages (from google-cloud-storage) (2.31.0)\n",
      "Requirement already satisfied: google-crc32c<2.0dev,>=1.0 in /home/exouser/anaconda3/lib/python3.11/site-packages (from google-cloud-storage) (1.5.0)\n",
      "Requirement already satisfied: googleapis-common-protos<2.0.dev0,>=1.56.2 in /home/exouser/anaconda3/lib/python3.11/site-packages (from google-api-core<3.0.0dev,>=2.15.0->google-cloud-storage) (1.63.0)\n",
      "Requirement already satisfied: protobuf!=3.20.0,!=3.20.1,!=4.21.0,!=4.21.1,!=4.21.2,!=4.21.3,!=4.21.4,!=4.21.5,<5.0.0.dev0,>=3.19.5 in /home/exouser/anaconda3/lib/python3.11/site-packages (from google-api-core<3.0.0dev,>=2.15.0->google-cloud-storage) (3.20.3)\n",
      "Requirement already satisfied: proto-plus<2.0.0dev,>=1.22.3 in /home/exouser/anaconda3/lib/python3.11/site-packages (from google-api-core<3.0.0dev,>=2.15.0->google-cloud-storage) (1.23.0)\n",
      "Requirement already satisfied: cachetools<6.0,>=2.0.0 in /home/exouser/anaconda3/lib/python3.11/site-packages (from google-auth<3.0dev,>=2.26.1->google-cloud-storage) (4.2.2)\n",
      "Requirement already satisfied: pyasn1-modules>=0.2.1 in /home/exouser/anaconda3/lib/python3.11/site-packages (from google-auth<3.0dev,>=2.26.1->google-cloud-storage) (0.2.8)\n",
      "Requirement already satisfied: rsa<5,>=3.1.4 in /home/exouser/anaconda3/lib/python3.11/site-packages (from google-auth<3.0dev,>=2.26.1->google-cloud-storage) (4.9)\n",
      "Requirement already satisfied: charset-normalizer<4,>=2 in /home/exouser/anaconda3/lib/python3.11/site-packages (from requests<3.0.0dev,>=2.18.0->google-cloud-storage) (2.0.4)\n",
      "Requirement already satisfied: idna<4,>=2.5 in /home/exouser/anaconda3/lib/python3.11/site-packages (from requests<3.0.0dev,>=2.18.0->google-cloud-storage) (3.4)\n",
      "Requirement already satisfied: urllib3<3,>=1.21.1 in /home/exouser/anaconda3/lib/python3.11/site-packages (from requests<3.0.0dev,>=2.18.0->google-cloud-storage) (2.0.7)\n",
      "Requirement already satisfied: certifi>=2017.4.17 in /home/exouser/anaconda3/lib/python3.11/site-packages (from requests<3.0.0dev,>=2.18.0->google-cloud-storage) (2024.2.2)\n",
      "Requirement already satisfied: pyasn1<0.5.0,>=0.4.6 in /home/exouser/anaconda3/lib/python3.11/site-packages (from pyasn1-modules>=0.2.1->google-auth<3.0dev,>=2.26.1->google-cloud-storage) (0.4.8)\n"
     ]
    }
   ],
   "source": [
    "!pip install google-cloud-storage"
   ]
  },
  {
   "cell_type": "code",
   "execution_count": 45,
   "id": "0e4ee99c-fc46-4292-9498-1a4e5d472274",
   "metadata": {},
   "outputs": [],
   "source": [
    "from google.cloud import storage\n",
    "import os"
   ]
  },
  {
   "cell_type": "code",
   "execution_count": 46,
   "id": "a118d024-2521-4402-bebc-a9c0919e3d21",
   "metadata": {},
   "outputs": [],
   "source": [
    "os.environ[\"GOOGLE_APPLICATION_CREDENTIALS\"] = \"sp24-i535-dhchhed-airbnb-590edf853c39.json\""
   ]
  },
  {
   "cell_type": "code",
   "execution_count": 47,
   "id": "ee558f71-2715-41e4-9627-1b9f494b57b1",
   "metadata": {},
   "outputs": [],
   "source": [
    "project_id = 'sp24-i535-dhchhed-airbnb'\n",
    "bucket_name = 'i535_dhchhed_airbnb'"
   ]
  },
  {
   "cell_type": "code",
   "execution_count": 48,
   "id": "e1b0b9a4-ff15-481f-9a28-76841a505c7f",
   "metadata": {},
   "outputs": [],
   "source": [
    "storage_client = storage.Client()\n",
    "bucket = storage_client.bucket(bucket_name)"
   ]
  },
  {
   "cell_type": "code",
   "execution_count": 49,
   "id": "6e8f5d2e-9b68-45ad-b944-259cdb582b2a",
   "metadata": {},
   "outputs": [],
   "source": [
    "def list_blobs(bucket_name):\n",
    "    storage_client = storage.Client()\n",
    "    blobs = storage_client.list_blobs(bucket_name)\n",
    "    for blob in blobs:\n",
    "        print(blob.name)"
   ]
  },
  {
   "cell_type": "code",
   "execution_count": 50,
   "id": "93575b57-edc1-42d5-a1a1-95340c602fe8",
   "metadata": {},
   "outputs": [
    {
     "name": "stdout",
     "output_type": "stream",
     "text": [
      "airbnb_dataset.csv\n",
      "airbnb_preprocessed_dataset.csv\n"
     ]
    }
   ],
   "source": [
    "list_blobs(bucket)"
   ]
  },
  {
   "cell_type": "code",
   "execution_count": 51,
   "id": "4b83d34c-47f8-42be-95aa-1e030b858846",
   "metadata": {},
   "outputs": [],
   "source": [
    "import warnings\n",
    "warnings.filterwarnings('ignore')"
   ]
  },
  {
   "cell_type": "code",
   "execution_count": 52,
   "id": "322aac40-9e54-49a7-a4a9-2c4175c8c8c2",
   "metadata": {},
   "outputs": [],
   "source": [
    "from pyspark.sql import SparkSession"
   ]
  },
  {
   "cell_type": "markdown",
   "id": "0075c1fe-5a38-4620-ac73-1e21b1ab667a",
   "metadata": {},
   "source": [
    "First, we will create a Spark session with a custom application name ('Airbnb_Analysis') and specify that it should run on a local Spark instance with all available CPU cores (local[*]). This session allows us to perform various data operations using Apache Spark, a framework designed for distributed data processing.\n",
    "\n",
    "Next, we will read a CSV file (airbnb_preprocessed_dataset.csv) from the specified path into a Spark DataFrame named 'airbnb_bookings'."
   ]
  },
  {
   "cell_type": "code",
   "execution_count": 53,
   "id": "32e789cb-12d2-44ec-b22c-bd0fb28c2abe",
   "metadata": {},
   "outputs": [],
   "source": [
    "spark = SparkSession.builder.appName('Airbnb_Analysis').master('local[*]').getOrCreate()\n",
    "\n",
    "dataset_path = 'airbnb_preprocessed_dataset.csv'\n",
    "airbnb_bookings = spark.read.csv(dataset_path, inferSchema=True, header=True)"
   ]
  },
  {
   "cell_type": "code",
   "execution_count": 54,
   "id": "db933562-1aa5-4675-80fc-1c717e392c04",
   "metadata": {},
   "outputs": [
    {
     "name": "stdout",
     "output_type": "stream",
     "text": [
      "root\n",
      " |-- hotel: string (nullable = true)\n",
      " |-- arrival_date: date (nullable = true)\n",
      " |-- arrival_date_year: integer (nullable = true)\n",
      " |-- arrival_date_month: string (nullable = true)\n",
      " |-- arrival_date_week_number: integer (nullable = true)\n",
      " |-- arrival_date_day_of_month: integer (nullable = true)\n",
      " |-- lead_time: integer (nullable = true)\n",
      " |-- stays_in_weekend_nights: integer (nullable = true)\n",
      " |-- stays_in_week_nights: integer (nullable = true)\n",
      " |-- adults: integer (nullable = true)\n",
      " |-- children: double (nullable = true)\n",
      " |-- babies: integer (nullable = true)\n",
      " |-- meal: string (nullable = true)\n",
      " |-- country: string (nullable = true)\n",
      " |-- market_segment: string (nullable = true)\n",
      " |-- distribution_channel: string (nullable = true)\n",
      " |-- is_repeated_guest: integer (nullable = true)\n",
      " |-- previous_cancellations: integer (nullable = true)\n",
      " |-- previous_bookings_not_canceled: integer (nullable = true)\n",
      " |-- reserved_room_type: string (nullable = true)\n",
      " |-- assigned_room_type: string (nullable = true)\n",
      " |-- booking_changes: integer (nullable = true)\n",
      " |-- deposit_type: string (nullable = true)\n",
      " |-- days_in_waiting_list: integer (nullable = true)\n",
      " |-- customer_type: string (nullable = true)\n",
      " |-- adr: double (nullable = true)\n",
      " |-- required_car_parking_spaces: integer (nullable = true)\n",
      " |-- total_of_special_requests: integer (nullable = true)\n",
      " |-- reservation_status_date: date (nullable = true)\n",
      " |-- is_canceled: integer (nullable = true)\n",
      "\n"
     ]
    }
   ],
   "source": [
    "airbnb_bookings.printSchema()"
   ]
  },
  {
   "cell_type": "code",
   "execution_count": 55,
   "id": "d60a80e8-01b1-4f81-a91f-816466699984",
   "metadata": {},
   "outputs": [],
   "source": [
    "from pyspark.sql.functions import *\n",
    "from pyspark.sql import functions as F\n",
    "from pyspark.sql.types import DoubleType, IntegerType\n",
    "from pyspark.sql.window import Window"
   ]
  },
  {
   "cell_type": "code",
   "execution_count": 56,
   "id": "91197792-c2a0-4d6f-89be-35748bbe179b",
   "metadata": {},
   "outputs": [
    {
     "name": "stdout",
     "output_type": "stream",
     "text": [
      "Customer Type and Total Cancellation\n",
      "+---------------+--------------+\n",
      "|  customer_type|total_canceled|\n",
      "+---------------+--------------+\n",
      "|      Transient|         21637|\n",
      "|Transient-Party|          1781|\n",
      "|       Contract|           512|\n",
      "|          Group|            53|\n",
      "+---------------+--------------+\n",
      "\n"
     ]
    }
   ],
   "source": [
    "# We will create a temporary view from a Spark DataFrame and then run a SQL query on it to \n",
    "# retrieve data about customer types and their cancellation counts\n",
    "airbnb_bookings.createOrReplaceTempView('airbnb_booking')\n",
    "\n",
    "queries = \"\"\"\n",
    "    select\n",
    "        customer_type,\n",
    "        sum(is_canceled) as total_canceled\n",
    "    from airbnb_booking\n",
    "    group by customer_type\n",
    "    order by total_canceled desc\n",
    "\"\"\"\n",
    "\n",
    "customerTypeSQL = spark.sql(queries)\n",
    "\n",
    "print(\"Customer Type and Total Cancellation\")\n",
    "customerTypeSQL.show()"
   ]
  },
  {
   "cell_type": "markdown",
   "id": "e596a50a-ae04-4cd0-b28f-1cd516972acc",
   "metadata": {},
   "source": [
    "We can infer that transient customers, typically individual travelers, have the highest number of cancellations, with 21,637, suggesting that their bookings tend to be more flexible and subject to change. Transient-Party customers, representing small groups or families, follow with 1,781 cancellations. Contract customers, who generally have longer-term agreements with hotels, show fewer cancellations at 512, indicating more booking stability. Group bookings, often used for larger gatherings or events, have the lowest number of cancellations at 53, suggesting stricter cancellation policies or greater commitment to the booking. This distribution indicates that transient customers may require more flexible rebooking policies or targeted marketing to reduce cancellations, while the stability seen with contract and group bookings might offer insights for reducing cancellations in other segments."
   ]
  },
  {
   "cell_type": "markdown",
   "id": "8acd9e9f-3265-4fb4-8b23-4e81e261a98c",
   "metadata": {},
   "source": [
    "#### Reservations by Year and Month"
   ]
  },
  {
   "cell_type": "code",
   "execution_count": 57,
   "id": "e76503de-2789-44be-9d0b-e690300d88b3",
   "metadata": {},
   "outputs": [
    {
     "name": "stdout",
     "output_type": "stream",
     "text": [
      "+-----------------+------------------+------------------+\n",
      "|arrival_date_year|arrival_date_month|total_reservations|\n",
      "+-----------------+------------------+------------------+\n",
      "|             2015|            August|              2435|\n",
      "|             2015|          December|              1961|\n",
      "|             2015|              July|              1661|\n",
      "|             2015|          November|              1642|\n",
      "|             2015|           October|              2676|\n",
      "|             2015|         September|              2819|\n",
      "|             2016|             April|              3745|\n",
      "|             2016|            August|              4414|\n",
      "|             2016|          December|              3119|\n",
      "|             2016|          February|              2772|\n",
      "|             2016|           January|              1815|\n",
      "|             2016|              July|              3829|\n",
      "|             2016|              June|              3504|\n",
      "|             2016|             March|              3796|\n",
      "|             2016|               May|              3767|\n",
      "|             2016|          November|              3308|\n",
      "|             2016|           October|              4207|\n",
      "|             2016|         September|              3838|\n",
      "|             2017|             April|              4124|\n",
      "|             2017|            August|              4380|\n",
      "+-----------------+------------------+------------------+\n",
      "only showing top 20 rows\n",
      "\n"
     ]
    }
   ],
   "source": [
    "# Let's analyze the reservation trends over time, group by the year and month of arrival \n",
    "# to calculate the total number of reservations and then order the results chronologically\n",
    "reservation_trends = airbnb_bookings \\\n",
    "    .groupBy(\"arrival_date_year\", \"arrival_date_month\") \\\n",
    "    .agg(count(\"*\").alias(\"total_reservations\")) \\\n",
    "    .orderBy(\"arrival_date_year\", \"arrival_date_month\")\n",
    "\n",
    "reservation_trends.show()"
   ]
  },
  {
   "cell_type": "markdown",
   "id": "7e6694f1-32c7-4fb0-b31e-c98f1821855c",
   "metadata": {},
   "source": [
    "We can infer that the total reservations by year and month indicates a consistent trend of higher reservations during the summer and early fall. August stands out as a peak month for all three years, with reservations reaching 2,435 in 2015, 4,414 in 2016, and 4,380 in 2017. Other high-reservation months include July, September, and October, suggesting that these periods might align with popular travel seasons or holidays. The trends in these months can guide hotel staffing, promotions, and other operational strategies to accommodate increased bookings, while lower-reservation months like February and January might benefit from targeted marketing efforts to boost bookings."
   ]
  },
  {
   "cell_type": "markdown",
   "id": "1c7dc1d6-af54-4390-964b-1d5aed7d3c39",
   "metadata": {},
   "source": [
    "#### Cancellation Rate by Hotel"
   ]
  },
  {
   "cell_type": "code",
   "execution_count": 58,
   "id": "5c96013c-914a-4a48-8053-ddd9174d2ef1",
   "metadata": {},
   "outputs": [
    {
     "name": "stdout",
     "output_type": "stream",
     "text": [
      "+------------+------------------+-------------------+-----------------+\n",
      "|       hotel|total_reservations|total_cancellations|cancellation_rate|\n",
      "+------------+------------------+-------------------+-----------------+\n",
      "|Resort Hotel|             33510|               7944|            23.71|\n",
      "|  City Hotel|             53404|              16039|            30.03|\n",
      "+------------+------------------+-------------------+-----------------+\n",
      "\n"
     ]
    }
   ],
   "source": [
    "# Let's analyze the cancellation rate for each hotel, along with the total number of reservations and the total cancellations\n",
    "cancellation_rate = airbnb_bookings \\\n",
    "    .groupBy(\"hotel\") \\\n",
    "    .agg(\n",
    "        count(\"*\").alias(\"total_reservations\"),\n",
    "        sum(\"is_canceled\").alias(\"total_cancellations\"),\n",
    "        round((sum(\"is_canceled\") / count(\"*\") * 100), 2).alias(\"cancellation_rate\")\n",
    "    )\n",
    "\n",
    "cancellation_rate.show()"
   ]
  },
  {
   "cell_type": "markdown",
   "id": "5d39bd32-ad28-45e5-a53b-aac9f2f2bbf9",
   "metadata": {},
   "source": [
    "We can infer that City Hotel has a significantly higher cancellation rate (30.03%) compared to Resort Hotel (23.71%), despite having more total reservations (53,404 versus 33,510). This indicates that guests at City Hotels are more likely to cancel their bookings. The higher cancellation rate could be due to the nature of city-based travel, which often involves business or shorter stays, providing more flexibility to change plans. In contrast, Resort Hotels, often used for leisure and vacation, have a lower cancellation rate, suggesting greater commitment from guests. These insights can guide hotel management in addressing higher cancellation rates, perhaps through stricter cancellation policies, improved customer engagement, or targeted promotions to reduce cancellations in City Hotels, while Resort Hotels can leverage their stability to attract more bookings."
   ]
  },
  {
   "cell_type": "markdown",
   "id": "f00eda03-c022-47c5-8061-43281e6b689f",
   "metadata": {},
   "source": [
    "#### Reservations by Market Segment"
   ]
  },
  {
   "cell_type": "code",
   "execution_count": 59,
   "id": "e6f36389-8ff1-4005-9416-83003f1eaba2",
   "metadata": {},
   "outputs": [
    {
     "name": "stdout",
     "output_type": "stream",
     "text": [
      "+--------------+------------------+\n",
      "|market_segment|total_reservations|\n",
      "+--------------+------------------+\n",
      "|     Online TA|             51534|\n",
      "| Offline TA/TO|             13849|\n",
      "|        Direct|             11645|\n",
      "|        Groups|              4936|\n",
      "|     Corporate|              4025|\n",
      "| Complementary|               698|\n",
      "|      Aviation|               227|\n",
      "+--------------+------------------+\n",
      "\n"
     ]
    }
   ],
   "source": [
    "# Let's analyze the reservations by market segment, providing insights into which segments have the most bookings\n",
    "reservations_by_market_segment = airbnb_bookings \\\n",
    "    .groupBy(\"market_segment\") \\\n",
    "    .agg(count(\"*\").alias(\"total_reservations\")) \\\n",
    "    .orderBy(\"total_reservations\", ascending=False)\n",
    "\n",
    "reservations_by_market_segment.show()"
   ]
  },
  {
   "cell_type": "markdown",
   "id": "1fb1bf20-7142-4c58-98f7-a2ed524b2e1b",
   "metadata": {},
   "source": [
    "We can infer that \"Online TA\" (Online Travel Agency) is the largest market segment, with a total of 51,534 reservations, indicating the significant role online platforms play in hotel bookings. The \"Offline TA/TO\" (Offline Travel Agency/Tour Operator) segment ranks second with 13,849 reservations, suggesting that traditional booking channels remain relevant. The \"Direct\" segment, encompassing direct bookings with the hotel, has 11,645 reservations, showing a healthy demand for direct customer relationships. Other smaller segments include \"Groups\" with 4,936 reservations, \"Corporate\" with 4,025 reservations, \"Complementary\" with 698 reservations, and \"Aviation\" with 227 reservations. This data suggests that hotels should focus on maintaining strong relationships with online travel agencies while also exploring opportunities to increase direct bookings and other channels, such as corporate and group bookings, which can provide a diversified revenue stream."
   ]
  },
  {
   "cell_type": "markdown",
   "id": "bcb25dd0-d543-4bc8-a9fa-f3d03a9c311e",
   "metadata": {},
   "source": [
    "#### Analyzing Customer Loyalty and Cancellation Patterns"
   ]
  },
  {
   "cell_type": "code",
   "execution_count": 60,
   "id": "1264035b-585d-45b7-b71b-d7659349d90c",
   "metadata": {},
   "outputs": [
    {
     "name": "stdout",
     "output_type": "stream",
     "text": [
      "+---------------+-------+---------------------+---------------+\n",
      "|  customer_type|country|avg_cancellation_rate|total_customers|\n",
      "+---------------+-------+---------------------+---------------+\n",
      "|      Transient|    FJI|                100.0|              1|\n",
      "|      Transient|    BEN|                100.0|              3|\n",
      "|      Transient|    KHM|                100.0|              1|\n",
      "|      Transient|    GGY|                100.0|              1|\n",
      "|      Transient|    GLP|                100.0|              1|\n",
      "|      Transient|    HND|                100.0|              1|\n",
      "|      Transient|    IMN|                100.0|              2|\n",
      "|      Transient|    JEY|                100.0|              8|\n",
      "|      Transient|    MAC|                100.0|              9|\n",
      "|      Transient|    MNE|                100.0|              2|\n",
      "|      Transient|    MYT|                100.0|              2|\n",
      "|      Transient|    NIC|                100.0|              1|\n",
      "|      Transient|    UMI|                100.0|              1|\n",
      "|      Transient|    VGB|                100.0|              1|\n",
      "|Transient-Party|    GGY|                100.0|              1|\n",
      "|Transient-Party|    MKD|                100.0|              2|\n",
      "|      Transient|    GIB|                91.67|             12|\n",
      "|      Transient|    HKG|                 91.3|             23|\n",
      "|      Transient|    SEN|                88.89|              9|\n",
      "|      Transient|    ARE|                87.23|             47|\n",
      "+---------------+-------+---------------------+---------------+\n",
      "only showing top 20 rows\n",
      "\n"
     ]
    }
   ],
   "source": [
    "# Let's examine customer loyalty by analyzing cancellation rates among different customer types and countries\n",
    "customer_window = Window.partitionBy(\"customer_type\", \"country\")\n",
    "\n",
    "loyalty_analysis = airbnb_bookings \\\n",
    "    .withColumn(\"total_bookings\", count(\"hotel\").over(customer_window)) \\\n",
    "    .withColumn(\"total_cancellations\", sum(\"is_canceled\").over(customer_window)) \\\n",
    "    .withColumn(\"cancellation_rate\", (col(\"total_cancellations\") / col(\"total_bookings\")) * 100) \\\n",
    "    .groupBy(\"customer_type\", \"country\") \\\n",
    "    .agg(\n",
    "        round(avg(\"cancellation_rate\"), 2).alias(\"avg_cancellation_rate\"),\n",
    "        count(\"total_bookings\").alias(\"total_customers\")\n",
    "    ) \\\n",
    "    .orderBy(col(\"avg_cancellation_rate\").desc())\n",
    "\n",
    "loyalty_analysis.show()"
   ]
  },
  {
   "cell_type": "markdown",
   "id": "4cd22de5-2493-404a-8151-e094e270e512",
   "metadata": {},
   "source": [
    "We can infer that a subset of transient customers from multiple countries exhibit a 100% cancellation rate. These countries include FJI, BEN, KHM, GGY, GLP, HND, IMN, JEY, MAC, MNE, MYT, NIC, UMI, and VGB, with most having a very low total customer count (1-3), indicating these are infrequent or one-time bookings. Other countries like GIB and HKG, despite having larger customer counts (12 and 23, respectively), also show high cancellation rates (91.67% and 91.3%). This pattern suggests that bookings from these countries or customer types might be unreliable, leading to significant cancellations. Additionally, the \"Transient-Party\" type in some countries, like GGY and MKD, also has a 100% cancellation rate. The high cancellation rates in these countries could stem from various factors, including travel restrictions, booking behavior, or specific cultural or regional trends. Understanding these patterns could guide hotels in developing targeted marketing strategies to mitigate cancellations or reconsidering how they engage with customers from high-cancellation regions. It also points to the need for flexibility and risk management when dealing with bookings from these segments."
   ]
  },
  {
   "cell_type": "markdown",
   "id": "e60e4550-d06f-4c8f-81d7-fdffe57d689f",
   "metadata": {},
   "source": [
    "#### Examining Room Utilization and Changes"
   ]
  },
  {
   "cell_type": "code",
   "execution_count": 61,
   "id": "437ec5dd-e82c-469d-8794-4cd25cbeb549",
   "metadata": {},
   "outputs": [
    {
     "name": "stdout",
     "output_type": "stream",
     "text": [
      "+------------------+------------------+-----------------+-------------+-----------+\n",
      "|reserved_room_type|assigned_room_type|total_assignments|total_changes|change_rate|\n",
      "+------------------+------------------+-----------------+-------------+-----------+\n",
      "|                 D|                 H|                9|            9|      100.0|\n",
      "|                 E|                 A|               15|           15|      100.0|\n",
      "|                 H|                 D|                1|            1|      100.0|\n",
      "|                 C|                 B|                2|            2|      100.0|\n",
      "|                 F|                 E|               31|           31|      100.0|\n",
      "|                 C|                 I|                9|            9|      100.0|\n",
      "|                 A|                 G|              174|          174|      100.0|\n",
      "|                 E|                 H|                4|            4|      100.0|\n",
      "|                 H|                 I|                6|            6|      100.0|\n",
      "|                 A|                 E|             1003|         1003|      100.0|\n",
      "|                 D|                 E|              654|          654|      100.0|\n",
      "|                 D|                 F|              197|          197|      100.0|\n",
      "|                 A|                 F|              383|          383|      100.0|\n",
      "|                 E|                 C|                6|            6|      100.0|\n",
      "|                 G|                 I|               15|           15|      100.0|\n",
      "|                 C|                 A|                5|            5|      100.0|\n",
      "|                 C|                 F|                2|            2|      100.0|\n",
      "|                 E|                 D|               21|           21|      100.0|\n",
      "|                 D|                 G|               81|           81|      100.0|\n",
      "|                 D|                 I|               67|           67|      100.0|\n",
      "+------------------+------------------+-----------------+-------------+-----------+\n",
      "only showing top 20 rows\n",
      "\n"
     ]
    }
   ],
   "source": [
    "# Let's analyze room assignment changes to understand how often guests receive a different room type from the one they reserved\n",
    "room_change_analysis = airbnb_bookings \\\n",
    "    .groupBy(\"reserved_room_type\", \"assigned_room_type\") \\\n",
    "    .agg(\n",
    "        count(\"*\").alias(\"total_assignments\"),\n",
    "        sum(expr(\"CAST(reserved_room_type != assigned_room_type AS INTEGER)\")).alias(\"total_changes\")\n",
    "    ) \\\n",
    "    .withColumn(\"change_rate\", (col(\"total_changes\") / col(\"total_assignments\")) * 100) \\\n",
    "    .orderBy(col(\"change_rate\").desc())\n",
    "\n",
    "room_change_analysis.show()"
   ]
  },
  {
   "cell_type": "markdown",
   "id": "e70f2c1c-46af-4759-8231-3674de87b979",
   "metadata": {},
   "source": [
    "We can infer that all reserved room types have experienced a 100% change rate when assigned different room types, indicating that every reservation resulted in a different room type assignment. This trend is consistent across various reserved-to-assigned room type pairs, with high numbers of total assignments in certain combinations. For example, the transition from reserved room type A to assigned room type E has a total of 1,003 changes, while reserved room type D to assigned room type E has 654 changes. The prevalence of changes across a wide range of room type combinations suggests potential challenges in meeting customer expectations, which can impact customer satisfaction and increase the risk of cancellations. This high change rate could be due to operational issues, overbooking, or mismanagement of room assignments. Addressing these issues may require a more efficient reservation system, better communication between departments, or improved forecasting to reduce the mismatch between reserved and assigned room types. Understanding these trends can guide hotels in implementing strategies to improve room assignment accuracy and customer satisfaction."
   ]
  },
  {
   "cell_type": "markdown",
   "id": "3aafa5c0-9712-44cc-bcf9-74af4736896a",
   "metadata": {},
   "source": [
    "#### Exploring Seasonal Trends and Their Impact on Revenue"
   ]
  },
  {
   "cell_type": "code",
   "execution_count": 62,
   "id": "139bee3d-37d3-4050-ba67-5487ff7906a6",
   "metadata": {},
   "outputs": [
    {
     "name": "stdout",
     "output_type": "stream",
     "text": [
      "+------------+-------------+-------------+-----------+-------------------+\n",
      "|arrival_year|arrival_month|total_revenue|average_adr|total_cancellations|\n",
      "+------------+-------------+-------------+-----------+-------------------+\n",
      "|        2015|            7|    186929.44|     112.54|                512|\n",
      "|        2015|            8|    299487.73|     122.99|                566|\n",
      "|        2015|            9|    281647.61|      99.91|                560|\n",
      "|        2015|           10|    211872.95|      79.18|                437|\n",
      "|        2015|           11|      97727.0|      59.52|                242|\n",
      "|        2015|           12|    140899.17|      71.85|                372|\n",
      "|        2016|            1|    114626.95|      63.16|                301|\n",
      "|        2016|            2|    194989.86|      70.34|                527|\n",
      "|        2016|            3|    303078.37|      79.84|                885|\n",
      "|        2016|            4|     341831.6|      91.28|               1012|\n",
      "|        2016|            5|    377488.69|     100.21|                941|\n",
      "|        2016|            6|    381826.14|     108.97|                909|\n",
      "|        2016|            7|     503183.8|     131.41|               1084|\n",
      "|        2016|            8|    656804.85|      148.8|               1441|\n",
      "|        2016|            9|    464751.19|     121.09|               1076|\n",
      "|        2016|           10|    410533.89|      97.58|               1200|\n",
      "|        2016|           11|     263884.3|      79.77|                809|\n",
      "|        2016|           12|    274093.24|      87.88|               1001|\n",
      "|        2017|            1|    211783.48|      75.07|                736|\n",
      "|        2017|            2|    258129.59|      78.99|                887|\n",
      "+------------+-------------+-------------+-----------+-------------------+\n",
      "only showing top 20 rows\n",
      "\n"
     ]
    }
   ],
   "source": [
    "# Let's analyze revenue trends over time, focusing on seasonal variations\n",
    "seasonal_revenue_analysis = airbnb_bookings \\\n",
    "    .groupBy(year(\"arrival_date\").alias(\"arrival_year\"), month(\"arrival_date\").alias(\"arrival_month\")) \\\n",
    "    .agg(\n",
    "        round(sum(\"adr\"), 2).alias(\"total_revenue\"),\n",
    "        round(avg(\"adr\"), 2).alias(\"average_adr\"),\n",
    "        sum(\"is_canceled\").alias(\"total_cancellations\")\n",
    "    ) \\\n",
    "    .orderBy(\"arrival_year\", \"arrival_month\")\n",
    "\n",
    "seasonal_revenue_analysis.show()"
   ]
  },
  {
   "cell_type": "markdown",
   "id": "7a040cfc-a420-4a2c-962a-1919e148fcba",
   "metadata": {},
   "source": [
    "We can infer that seasonal fluctuations in total revenue and cancellations, with higher revenue generally observed during summer months. The most substantial total revenue is seen in August 2016, with 656,804.85, accompanied by a high average ADR of 148.80 and a high number of cancellations at 1,441. July 2016 also shows significant revenue (503,183.80) with a higher ADR (131.41) and over 1,000 cancellations (1,084). These peaks in summer months suggest increased travel during this season, possibly related to holidays or vacations. The correlation between higher revenue and increased cancellations during these months could indicate overbooking or customer uncertainty. Conversely, lower total revenue is observed in months like November 2015 (97,727.0) and January 2016 (114,626.95), with corresponding lower ADR and cancellations, suggesting a potential off-season with reduced travel activity. This pattern can guide operational strategies, emphasizing revenue generation during peak months while mitigating cancellations through targeted customer engagement, flexible rebooking policies, or improved customer service to reduce booking uncertainty and maintain high occupancy rates throughout the year."
   ]
  },
  {
   "cell_type": "markdown",
   "id": "ca9f96bd-2506-4708-a869-43c4689bfc51",
   "metadata": {},
   "source": [
    "#### Identifying the Impact of Special Requests on Cancellations"
   ]
  },
  {
   "cell_type": "code",
   "execution_count": 63,
   "id": "2448cead-3cbd-443b-855b-05dc0d778210",
   "metadata": {},
   "outputs": [
    {
     "name": "stdout",
     "output_type": "stream",
     "text": [
      "+-------------------------+-------------------+------------------+-----------------+\n",
      "|total_of_special_requests|total_cancellations|total_reservations|cancellation_rate|\n",
      "+-------------------------+-------------------+------------------+-----------------+\n",
      "|                        0|              14548|             43585|            33.38|\n",
      "|                        1|               6496|             28905|            22.47|\n",
      "|                        2|               2509|             11764|            21.33|\n",
      "|                        3|                395|              2307|            17.12|\n",
      "|                        4|                 34|               319|            10.66|\n",
      "|                        5|                  1|                34|             2.94|\n",
      "+-------------------------+-------------------+------------------+-----------------+\n",
      "\n"
     ]
    }
   ],
   "source": [
    "# Let's analyze the impact of special requests on reservation cancellations\n",
    "special_requests_analysis = airbnb_bookings \\\n",
    "    .groupBy(\"total_of_special_requests\") \\\n",
    "    .agg(\n",
    "        sum(\"is_canceled\").alias(\"total_cancellations\"),\n",
    "        count(\"*\").alias(\"total_reservations\"),\n",
    "        round((sum(\"is_canceled\") / count(\"*\") * 100), 2).alias(\"cancellation_rate\")\n",
    "    ) \\\n",
    "    .orderBy(\"total_of_special_requests\")\n",
    "\n",
    "special_requests_analysis.show()"
   ]
  },
  {
   "cell_type": "markdown",
   "id": "1c0e2ba6-22c6-4237-bc64-38fb2521af7d",
   "metadata": {},
   "source": [
    "We can infer that bookings with more special requests generally exhibit lower cancellation rates. Reservations with no special requests have the highest total cancellations (14,548) and the highest cancellation rate (33.38%), suggesting these bookings are more likely to be canceled due to lower customer commitment or flexibility. As the number of special requests increases, the total cancellations and cancellation rates tend to decrease, indicating a stronger commitment to the booking when special requests are involved. For instance, bookings with one special request have a lower cancellation rate (22.47%), with the rate progressively decreasing to 21.33% for two requests, 17.12% for three, 10.66% for four, and the lowest at 2.94% for five special requests. This trend suggests that customers who make more special requests might be more certain about their bookings, potentially due to personalized preferences or detailed planning. Hotels can use this insight to enhance customer satisfaction by promoting and accommodating special requests, which could lead to a decrease in cancellations and an increase in booking stability. Additionally, examining the reasons for higher cancellations in bookings with no special requests could guide hotels in implementing strategies to improve customer retention and reduce cancellations in this segment."
   ]
  },
  {
   "cell_type": "markdown",
   "id": "fa112859-a155-445e-bfe0-b214c0581595",
   "metadata": {},
   "source": [
    "#### Percentage of guest that get the room they requested"
   ]
  },
  {
   "cell_type": "code",
   "execution_count": 64,
   "id": "6da4d45b-80f4-4d96-9d73-8a7cf24d71bb",
   "metadata": {},
   "outputs": [
    {
     "name": "stdout",
     "output_type": "stream",
     "text": [
      "+------------+--------------------------+\n",
      "|       hotel|getting_requested_room_per|\n",
      "+------------+--------------------------+\n",
      "|Resort Hotel|                     79.72|\n",
      "|  City Hotel|                     88.59|\n",
      "+------------+--------------------------+\n",
      "\n"
     ]
    }
   ],
   "source": [
    "# Let's analyze the percentage of reservations where the reserved room type matches the assigned room type, grouped by hotel\n",
    "room_features = [\"hotel\",\"is_canceled\",\"reserved_room_type\",\"assigned_room_type\",\"isRequestedRoom\"]\n",
    "\n",
    "reservedRoom = (\n",
    "    airbnb_bookings\n",
    "    .withColumn(\"isRequestedRoom\", when(col(\"reserved_room_type\") == col(\"assigned_room_type\"), 1)\n",
    "                                  .otherwise(0))\n",
    ").select(*room_features)\n",
    "\n",
    "hotelReservedRoom = (\n",
    "    reservedRoom\n",
    "    .groupBy(\"hotel\")\n",
    "    .agg(\n",
    "        round((sum(col(\"isRequestedRoom\")) * 100 / count(col(\"hotel\"))),2).alias(\"getting_requested_room_per\")\n",
    "    )\n",
    ")\n",
    "hotelReservedRoom.show()"
   ]
  },
  {
   "cell_type": "markdown",
   "id": "4f751d47-c83f-4e79-8089-1b63582ae7fa",
   "metadata": {},
   "source": [
    "We can infer that City Hotels have a higher rate of fulfilling room type requests compared to Resort Hotels. City Hotels have a \"getting_requested_room_per\" value of 88.59%, suggesting that a significant majority of bookings receive the room type they originally reserved. In contrast, Resort Hotels have a lower rate of 79.72%, indicating that about one-fifth of bookings are assigned a different room type from what was reserved. This difference might reflect variations in hotel operations, customer expectations, or booking patterns between city-based and resort-based hotels. City Hotels, typically catering to business travelers or urban tourists, might prioritize consistent room assignments, whereas Resort Hotels, serving vacationers or leisure travelers, might have more flexibility in room assignments due to higher demand during peak seasons. To improve customer satisfaction, Resort Hotels could focus on reducing room assignment discrepancies, which might involve optimizing booking processes or managing room inventory more effectively. Conversely, City Hotels can leverage their higher consistency to attract customers seeking reliability in their room reservations."
   ]
  },
  {
   "cell_type": "markdown",
   "id": "9d14f3d9-a7fa-4d58-b371-4c53d633330e",
   "metadata": {},
   "source": [
    "#### Relationship between Booking Cancellation and Not getting assigned room"
   ]
  },
  {
   "cell_type": "code",
   "execution_count": 65,
   "id": "91213cd6-f201-45b9-b6de-9f2abd7e30ca",
   "metadata": {},
   "outputs": [
    {
     "name": "stdout",
     "output_type": "stream",
     "text": [
      "+------------+-----------------------+------------------+-------------------------------+\n",
      "|       hotel|total_not_assinged_room|total_cancellation|canceled_not_requested_room_per|\n",
      "+------------+-----------------------+------------------+-------------------------------+\n",
      "|Resort Hotel|                    294|              7944|                            3.7|\n",
      "|  City Hotel|                    315|             16039|                           1.96|\n",
      "+------------+-----------------------+------------------+-------------------------------+\n",
      "\n"
     ]
    }
   ],
   "source": [
    "# Let's analyze cancellations where the assigned room type differed from the reserved room type\n",
    "canceledReservationRoomDiff = (\n",
    "    reservedRoom\n",
    "    .filter(col(\"is_canceled\") == 1)\n",
    "    .groupBy(\"hotel\")\n",
    "    .agg(\n",
    "        (count(\"hotel\").alias(\"total_cancellation\") - sum(col(\"isRequestedRoom\"))).alias(\"total_not_assinged_room\"),\n",
    "        count(\"hotel\").alias(\"total_cancellation\"),\n",
    "        round(((count(\"hotel\").alias(\"total_cancellation\") - sum(col(\"isRequestedRoom\"))) * 100 / count(\"hotel\")),2).alias(\"canceled_not_requested_room_per\")\n",
    "    )\n",
    ")\n",
    "\n",
    "canceledReservationRoomDiff.show()"
   ]
  },
  {
   "cell_type": "markdown",
   "id": "4bf8d7b8-4c6f-479a-93ac-449be6258b92",
   "metadata": {},
   "source": [
    "We can infer that Resort Hotels have a higher rate of room mismatches among canceled reservations compared to City Hotels. Resort Hotels have 294 room mismatches among 7,944 total cancellations, resulting in a \"canceled_not_requested_room_per\" value of 3.7%. This suggests that a small fraction of canceled reservations in Resort Hotels involves room assignment discrepancies. In contrast, City Hotels, despite having a higher total number of cancellations (16,039), have a lower rate of room mismatches (1.96%), with 315 total room mismatches. This difference could indicate operational challenges in Resort Hotels leading to room assignment errors, or it could suggest that Resort Hotels have a more flexible booking process, resulting in more cancellations where room types don't match. The relatively lower rate of mismatches in City Hotels might reflect a more rigid operational structure or better control over room assignments. These insights can help hotel management focus on reducing room assignment errors, particularly in Resort Hotels, which could further reduce cancellation rates and improve customer satisfaction by ensuring guests receive the room type they reserved."
   ]
  },
  {
   "cell_type": "code",
   "execution_count": 66,
   "id": "cf3c125c-9114-4842-9829-8ede14bc8545",
   "metadata": {},
   "outputs": [
    {
     "name": "stdout",
     "output_type": "stream",
     "text": [
      "Hotel Revenue Summary:\n",
      "+------------+----------------+----------+------------+-----------------------+\n",
      "|       hotel|expected_revenue|   revenue|revenue_lost|revenue_lost_percentage|\n",
      "+------------+----------------+----------+------------+-----------------------+\n",
      "|Resort Hotel|      148,024.00|136,872.00|   11,152.00|                   7.53|\n",
      "|  City Hotel|      168,039.00|152,645.00|   15,394.00|                   9.16|\n",
      "+------------+----------------+----------+------------+-----------------------+\n",
      "\n"
     ]
    }
   ],
   "source": [
    "# Let's analyze revenue metrics for each hotel, considering expected revenue, revenue lost due to cancellations, and the \n",
    "# impact of cancellations on overall revenue\n",
    "hotelRevenue = (\n",
    "    airbnb_bookings\n",
    "    .groupBy('hotel')\n",
    "    .agg(\n",
    "        sum(col('stays_in_weekend_nights') + col('stays_in_week_nights')).alias('expected_revenue'),\n",
    "        sum(expr(f'CASE WHEN is_canceled = 1 THEN stays_in_weekend_nights ELSE 0 END')).alias('revenue_lost'),\n",
    "        (col('expected_revenue') - col('revenue_lost')).alias('revenue'),\n",
    "        (col('revenue_lost') * 100 / col('expected_revenue')).alias('revenue_lost_percentage')\n",
    "    )\n",
    "    .select(\n",
    "        col('hotel'),\n",
    "        format_number(col('expected_revenue'), 2).alias('expected_revenue'),\n",
    "        format_number(col('revenue'), 2).alias('revenue'),\n",
    "        format_number(col('revenue_lost'), 2).alias('revenue_lost'),\n",
    "        round(col('revenue_lost_percentage'), 2).alias('revenue_lost_percentage')\n",
    "    )\n",
    ")\n",
    "\n",
    "print('Hotel Revenue Summary:')\n",
    "hotelRevenue.show()"
   ]
  },
  {
   "cell_type": "markdown",
   "id": "d5c672fd-de6a-4be8-85a3-bc3e2c283ef7",
   "metadata": {},
   "source": [
    "We can infer that both Resort Hotel and City Hotel experience a loss in revenue due to cancellations, with City Hotel exhibiting a higher revenue lost percentage. Resort Hotel has an expected revenue of 148,024.00 and an actual revenue of 136,872.00, resulting in a revenue loss of 11,152.00, which translates to a revenue lost percentage of 7.53%. In comparison, City Hotel's expected revenue is 168,039.00, with an actual revenue of 152,645.00, indicating a revenue loss of 15,394.00 and a revenue lost percentage of 9.16%. These figures suggest that City Hotel experiences a greater impact from revenue loss due to cancellations, with a higher proportion of its expected revenue being lost. This could be attributed to higher cancellation rates or larger booking volumes. Resort Hotel's lower revenue lost percentage may reflect more stable bookings or better management of cancellations. These insights can guide hotel management in developing strategies to minimize revenue loss, such as implementing stricter cancellation policies, offering incentives for non-cancellable bookings, or improving customer engagement to reduce the likelihood of cancellations. Additionally, understanding the factors contributing to revenue loss can help both types of hotels improve revenue recovery and reduce the financial impact of cancellations."
   ]
  },
  {
   "cell_type": "markdown",
   "id": "3698b205-6e0a-410e-ac3f-86654d38b496",
   "metadata": {},
   "source": [
    "## Predict cancellations of an Airbnb using Logistic Regression model"
   ]
  },
  {
   "cell_type": "code",
   "execution_count": 67,
   "id": "8ffb0da8-b8be-4e20-9d04-ab8bb7b12226",
   "metadata": {},
   "outputs": [
    {
     "name": "stdout",
     "output_type": "stream",
     "text": [
      "Area Under ROC: 0.5807432429176912\n"
     ]
    }
   ],
   "source": [
    "from pyspark.ml import Pipeline\n",
    "from pyspark.ml.feature import StringIndexer, VectorAssembler\n",
    "from pyspark.ml.classification import LogisticRegression\n",
    "from pyspark.ml.evaluation import BinaryClassificationEvaluator\n",
    "from pyspark.ml.feature import StandardScaler\n",
    "\n",
    "import warnings\n",
    "warnings.filterwarnings('ignore')\n",
    "\n",
    "# Select relevant features for prediction\n",
    "features = [\"lead_time\", \"stays_in_weekend_nights\", \"stays_in_week_nights\", \n",
    "            \"adults\", \"children\", \"babies\", \"total_of_special_requests\", \"hotel\", \"market_segment\", \"deposit_type\"]\n",
    "\n",
    "# Convert categorical features into numerical (indexing)\n",
    "indexers = [StringIndexer(inputCol=col, outputCol=f\"{col}_indexed\") for col in [\"hotel\", \"market_segment\", \"deposit_type\"]]\n",
    "\n",
    "# Combine features into a single vector for training\n",
    "assembler = VectorAssembler(inputCols=[f\"{col}_indexed\" if col in [\"hotel\", \"market_segment\", \"deposit_type\"] else col for col in features], outputCol=\"features\")\n",
    "\n",
    "# Create a logistic regression model\n",
    "lr = LogisticRegression(featuresCol=\"features\", labelCol=\"is_canceled\")\n",
    "\n",
    "# Create a pipeline with all these stages\n",
    "pipeline = Pipeline(stages=indexers + [assembler, lr])\n",
    "\n",
    "# Split the data into training and test sets (80% training, 20% test)\n",
    "train_data, test_data = airbnb_bookings.randomSplit([0.8, 0.2], seed=12345)\n",
    "\n",
    "# Fit the pipeline to the training data\n",
    "model = pipeline.fit(train_data)\n",
    "\n",
    "# Make predictions on the test data\n",
    "predictions = model.transform(test_data)\n",
    "\n",
    "# Evaluate the model\n",
    "evaluator = BinaryClassificationEvaluator(labelCol=\"is_canceled\", rawPredictionCol=\"prediction\", metricName=\"areaUnderROC\")\n",
    "\n",
    "# Calculate the AUC (Area Under the ROC Curve) as a measure of accuracy\n",
    "auc = evaluator.evaluate(predictions)\n",
    "\n",
    "print(\"Area Under ROC:\", auc)"
   ]
  },
  {
   "cell_type": "markdown",
   "id": "9bf76b46-7d90-4946-a931-6be6d922d8cc",
   "metadata": {},
   "source": [
    "An AUC-ROC of 0.5807432429176912 suggests that the model's ability to distinguish between two classes is slightly better than random guessing."
   ]
  },
  {
   "cell_type": "code",
   "execution_count": 68,
   "id": "9693b0bd-0f73-4a42-81ba-21a108940620",
   "metadata": {},
   "outputs": [
    {
     "name": "stdout",
     "output_type": "stream",
     "text": [
      "+----------+---------------------------------------+\n",
      "|prediction|probability                            |\n",
      "+----------+---------------------------------------+\n",
      "|0.0       |[0.7075851307460941,0.2924148692539059]|\n",
      "+----------+---------------------------------------+\n",
      "\n"
     ]
    }
   ],
   "source": [
    "sample_record = test_data.limit(1)\n",
    "sample_record_without_label = sample_record.drop(\"is_canceled\")\n",
    "\n",
    "# Make predictions\n",
    "prediction_result = model.transform(sample_record_without_label)\n",
    "\n",
    "# Display the prediction result\n",
    "prediction_result.select(\"prediction\", \"probability\").show(truncate=False)"
   ]
  },
  {
   "cell_type": "markdown",
   "id": "c3b3616c-4ba5-4e7f-9660-a1bdd9da675c",
   "metadata": {},
   "source": [
    "This indicates that the model is predicting the outcome to be class 0, with a probability of approximately 70.76%."
   ]
  }
 ],
 "metadata": {
  "kernelspec": {
   "display_name": "Python 3 (ipykernel)",
   "language": "python",
   "name": "python3"
  },
  "language_info": {
   "codemirror_mode": {
    "name": "ipython",
    "version": 3
   },
   "file_extension": ".py",
   "mimetype": "text/x-python",
   "name": "python",
   "nbconvert_exporter": "python",
   "pygments_lexer": "ipython3",
   "version": "3.11.7"
  }
 },
 "nbformat": 4,
 "nbformat_minor": 5
}
